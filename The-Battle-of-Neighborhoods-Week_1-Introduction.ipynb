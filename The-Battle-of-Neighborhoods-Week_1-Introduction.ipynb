{
    "cells": [
        {
            "metadata": {
                "collapsed": true
            },
            "cell_type": "markdown",
            "source": "## The Battle of Neighborhoods (Week 1)"
        },
        {
            "metadata": {},
            "cell_type": "markdown",
            "source": "### Introduction/Business Problem"
        },
        {
            "metadata": {},
            "cell_type": "markdown",
            "source": "Toronto is one of the most densely populated areas in Canada. Being the land of opportunity, it brings in a variety of people from different ethnic backgrounds to the core city of Canada, Toronto. Being the largest city in Canada with an estimated population of over 6 million, there is no doubt about the diversity of the population. Multiculturalism is seen through the various neighbourhoods including; Chinatown, Corso Italia, Little India, Kensington Market, Little Italy, Koreatown and many more. Downtown Toronto being the hub of interactions between ethnicities brings many opportunities for entrepreneurs to start or grow their business. It is a place where people can try the best of each culture, either while they work or just passing through. Toronto is well known for its great food.\n\nThe objective of this project is to use Foursquare location data and regional clustering of venue information to determine what might be the \u2018best\u2019 neighbourhood in Toronto to open a restaurant. There are 631,050 Chinese in the Greater Toronto Area as of the 2016 census, second only to New York City for largest Chinese community in North America. So there are numerous opportunities to open a new Chinese restaurant. Through this project, we will find the most suitable location for an entrepreneur to open a new Chinese restaurant in Toronto, Canada."
        },
        {
            "metadata": {},
            "cell_type": "markdown",
            "source": "### Target Audience"
        },
        {
            "metadata": {},
            "cell_type": "markdown",
            "source": "Entrepreneur or business owner who wants to open Chinese restaurant in Toronto but is uncertain about which neighborhood."
        }
    ],
    "metadata": {
        "kernelspec": {
            "name": "python3",
            "display_name": "Python 3.7",
            "language": "python"
        },
        "language_info": {
            "name": "python",
            "version": "3.7.9",
            "mimetype": "text/x-python",
            "codemirror_mode": {
                "name": "ipython",
                "version": 3
            },
            "pygments_lexer": "ipython3",
            "nbconvert_exporter": "python",
            "file_extension": ".py"
        }
    },
    "nbformat": 4,
    "nbformat_minor": 1
}